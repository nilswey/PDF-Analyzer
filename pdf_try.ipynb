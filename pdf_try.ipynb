{
 "cells": [
  {
   "cell_type": "code",
   "id": "initial_id",
   "metadata": {
    "collapsed": true,
    "ExecuteTime": {
     "end_time": "2025-01-04T17:14:38.847144Z",
     "start_time": "2025-01-04T17:14:38.841141Z"
    }
   },
   "source": [
    "import fitz\n",
    "import pymupdf\n",
    "import spacy\n",
    "import textacy\n",
    "from spacy.tokenizer import Tokenizer\n",
    "from spacy.lang.en import English\n",
    "from textacy import text_stats\n",
    "from wordcloud import WordCloud\n",
    "import matplotlib.pyplot as plt\n",
    "from textacy import preprocessing"
   ],
   "outputs": [],
   "execution_count": 79
  },
  {
   "metadata": {
    "ExecuteTime": {
     "end_time": "2025-01-04T15:37:56.875173Z",
     "start_time": "2025-01-04T15:37:56.871237Z"
    }
   },
   "cell_type": "code",
   "source": "import re",
   "id": "8b76877c35dea286",
   "outputs": [],
   "execution_count": 45
  },
  {
   "metadata": {
    "ExecuteTime": {
     "end_time": "2025-01-04T16:35:13.060712Z",
     "start_time": "2025-01-04T16:34:49.309489Z"
    }
   },
   "cell_type": "code",
   "source": "#!pip install wordcloud",
   "id": "18c62c344776b088",
   "outputs": [
    {
     "name": "stdout",
     "output_type": "stream",
     "text": [
      "Collecting wordcloud\n",
      "  Obtaining dependency information for wordcloud from https://files.pythonhosted.org/packages/b9/74/6a15f68f59bc90032bfcf62eca796a5675be95e1aaf84f7861e1bfcfa8e5/wordcloud-1.9.4-cp312-cp312-win_amd64.whl.metadata\n",
      "  Downloading wordcloud-1.9.4-cp312-cp312-win_amd64.whl.metadata (3.5 kB)\n",
      "Requirement already satisfied: numpy>=1.6.1 in c:\\uni_skripts\\pdf\\pdf.venv\\lib\\site-packages (from wordcloud) (2.2.1)\n",
      "Collecting pillow (from wordcloud)\n",
      "  Obtaining dependency information for pillow from https://files.pythonhosted.org/packages/08/5c/2104299949b9d504baf3f4d35f73dbd14ef31bbd1ddc2c1b66a5b7dfda44/pillow-11.1.0-cp312-cp312-win_amd64.whl.metadata\n",
      "  Downloading pillow-11.1.0-cp312-cp312-win_amd64.whl.metadata (9.3 kB)\n",
      "Collecting matplotlib (from wordcloud)\n",
      "  Obtaining dependency information for matplotlib from https://files.pythonhosted.org/packages/9f/6e/264673e64001b99d747aff5a288eca82826c024437a3694e19aed1decf46/matplotlib-3.10.0-cp312-cp312-win_amd64.whl.metadata\n",
      "  Downloading matplotlib-3.10.0-cp312-cp312-win_amd64.whl.metadata (11 kB)\n",
      "Collecting contourpy>=1.0.1 (from matplotlib->wordcloud)\n",
      "  Obtaining dependency information for contourpy>=1.0.1 from https://files.pythonhosted.org/packages/a1/35/c2de8823211d07e8a79ab018ef03960716c5dff6f4d5bff5af87fd682992/contourpy-1.3.1-cp312-cp312-win_amd64.whl.metadata\n",
      "  Downloading contourpy-1.3.1-cp312-cp312-win_amd64.whl.metadata (5.4 kB)\n",
      "Collecting cycler>=0.10 (from matplotlib->wordcloud)\n",
      "  Obtaining dependency information for cycler>=0.10 from https://files.pythonhosted.org/packages/e7/05/c19819d5e3d95294a6f5947fb9b9629efb316b96de511b418c53d245aae6/cycler-0.12.1-py3-none-any.whl.metadata\n",
      "  Downloading cycler-0.12.1-py3-none-any.whl.metadata (3.8 kB)\n",
      "Collecting fonttools>=4.22.0 (from matplotlib->wordcloud)\n",
      "  Obtaining dependency information for fonttools>=4.22.0 from https://files.pythonhosted.org/packages/46/45/a498b5291f6c0d91b2394b1ed7447442a57d1c9b9cf8f439aee3c316a56e/fonttools-4.55.3-cp312-cp312-win_amd64.whl.metadata\n",
      "  Downloading fonttools-4.55.3-cp312-cp312-win_amd64.whl.metadata (168 kB)\n",
      "     ---------------------------------------- 0.0/168.5 kB ? eta -:--:--\n",
      "     -------------- ------------------------ 61.4/168.5 kB 1.6 MB/s eta 0:00:01\n",
      "     -------------------------------------- 168.5/168.5 kB 2.0 MB/s eta 0:00:00\n",
      "Collecting kiwisolver>=1.3.1 (from matplotlib->wordcloud)\n",
      "  Obtaining dependency information for kiwisolver>=1.3.1 from https://files.pythonhosted.org/packages/bd/72/dfff0cc97f2a0776e1c9eb5bef1ddfd45f46246c6533b0191887a427bca5/kiwisolver-1.4.8-cp312-cp312-win_amd64.whl.metadata\n",
      "  Downloading kiwisolver-1.4.8-cp312-cp312-win_amd64.whl.metadata (6.3 kB)\n",
      "Requirement already satisfied: packaging>=20.0 in c:\\uni_skripts\\pdf\\pdf.venv\\lib\\site-packages (from matplotlib->wordcloud) (24.2)\n",
      "Collecting pyparsing>=2.3.1 (from matplotlib->wordcloud)\n",
      "  Obtaining dependency information for pyparsing>=2.3.1 from https://files.pythonhosted.org/packages/1c/a7/c8a2d361bf89c0d9577c934ebb7421b25dc84bf3a8e3ac0a40aed9acc547/pyparsing-3.2.1-py3-none-any.whl.metadata\n",
      "  Downloading pyparsing-3.2.1-py3-none-any.whl.metadata (5.0 kB)\n",
      "Requirement already satisfied: python-dateutil>=2.7 in c:\\uni_skripts\\pdf\\pdf.venv\\lib\\site-packages (from matplotlib->wordcloud) (2.9.0.post0)\n",
      "Requirement already satisfied: six>=1.5 in c:\\uni_skripts\\pdf\\pdf.venv\\lib\\site-packages (from python-dateutil>=2.7->matplotlib->wordcloud) (1.17.0)\n",
      "Downloading wordcloud-1.9.4-cp312-cp312-win_amd64.whl (301 kB)\n",
      "   ---------------------------------------- 0.0/301.2 kB ? eta -:--:--\n",
      "   ---------- ----------------------------- 81.9/301.2 kB 2.3 MB/s eta 0:00:01\n",
      "   ------------------------------------ --- 276.5/301.2 kB 3.4 MB/s eta 0:00:01\n",
      "   ---------------------------------------- 301.2/301.2 kB 2.7 MB/s eta 0:00:00\n",
      "Downloading matplotlib-3.10.0-cp312-cp312-win_amd64.whl (8.0 MB)\n",
      "   ---------------------------------------- 0.0/8.0 MB ? eta -:--:--\n",
      "    --------------------------------------- 0.2/8.0 MB 3.3 MB/s eta 0:00:03\n",
      "   - -------------------------------------- 0.2/8.0 MB 2.1 MB/s eta 0:00:04\n",
      "   - -------------------------------------- 0.3/8.0 MB 2.4 MB/s eta 0:00:04\n",
      "   -- ------------------------------------- 0.5/8.0 MB 2.5 MB/s eta 0:00:04\n",
      "   -- ------------------------------------- 0.5/8.0 MB 2.2 MB/s eta 0:00:04\n",
      "   --- ------------------------------------ 0.6/8.0 MB 2.2 MB/s eta 0:00:04\n",
      "   --- ------------------------------------ 0.7/8.0 MB 2.0 MB/s eta 0:00:04\n",
      "   ---- ----------------------------------- 0.8/8.0 MB 2.2 MB/s eta 0:00:04\n",
      "   ---- ----------------------------------- 1.0/8.0 MB 2.4 MB/s eta 0:00:03\n",
      "   ----- ---------------------------------- 1.1/8.0 MB 2.4 MB/s eta 0:00:03\n",
      "   ------ --------------------------------- 1.3/8.0 MB 2.5 MB/s eta 0:00:03\n",
      "   ------ --------------------------------- 1.4/8.0 MB 2.5 MB/s eta 0:00:03\n",
      "   ------- -------------------------------- 1.5/8.0 MB 2.6 MB/s eta 0:00:03\n",
      "   -------- ------------------------------- 1.6/8.0 MB 2.5 MB/s eta 0:00:03\n",
      "   -------- ------------------------------- 1.7/8.0 MB 2.5 MB/s eta 0:00:03\n",
      "   --------- ------------------------------ 1.9/8.0 MB 2.5 MB/s eta 0:00:03\n",
      "   ---------- ----------------------------- 2.1/8.0 MB 2.6 MB/s eta 0:00:03\n",
      "   ---------- ----------------------------- 2.1/8.0 MB 2.5 MB/s eta 0:00:03\n",
      "   ----------- ---------------------------- 2.3/8.0 MB 2.6 MB/s eta 0:00:03\n",
      "   ----------- ---------------------------- 2.3/8.0 MB 2.5 MB/s eta 0:00:03\n",
      "   ------------ --------------------------- 2.5/8.0 MB 2.6 MB/s eta 0:00:03\n",
      "   ------------- -------------------------- 2.7/8.0 MB 2.7 MB/s eta 0:00:02\n",
      "   --------------- ------------------------ 3.1/8.0 MB 2.9 MB/s eta 0:00:02\n",
      "   ---------------- ----------------------- 3.2/8.0 MB 2.9 MB/s eta 0:00:02\n",
      "   ----------------- ---------------------- 3.5/8.0 MB 3.0 MB/s eta 0:00:02\n",
      "   ------------------- -------------------- 3.9/8.0 MB 3.2 MB/s eta 0:00:02\n",
      "   -------------------- ------------------- 4.1/8.0 MB 3.3 MB/s eta 0:00:02\n",
      "   --------------------- ------------------ 4.3/8.0 MB 3.3 MB/s eta 0:00:02\n",
      "   ---------------------- ----------------- 4.4/8.0 MB 3.3 MB/s eta 0:00:02\n",
      "   ---------------------- ----------------- 4.5/8.0 MB 3.3 MB/s eta 0:00:02\n",
      "   ------------------------ --------------- 4.8/8.0 MB 3.4 MB/s eta 0:00:01\n",
      "   ------------------------- -------------- 5.0/8.0 MB 3.4 MB/s eta 0:00:01\n",
      "   ------------------------- -------------- 5.2/8.0 MB 3.4 MB/s eta 0:00:01\n",
      "   -------------------------- ------------- 5.4/8.0 MB 3.4 MB/s eta 0:00:01\n",
      "   --------------------------- ------------ 5.6/8.0 MB 3.4 MB/s eta 0:00:01\n",
      "   ---------------------------- ----------- 5.8/8.0 MB 3.5 MB/s eta 0:00:01\n",
      "   ----------------------------- ---------- 5.9/8.0 MB 3.5 MB/s eta 0:00:01\n",
      "   ----------------------------- ---------- 6.0/8.0 MB 3.4 MB/s eta 0:00:01\n",
      "   ------------------------------ --------- 6.2/8.0 MB 3.5 MB/s eta 0:00:01\n",
      "   -------------------------------- ------- 6.5/8.0 MB 3.5 MB/s eta 0:00:01\n",
      "   --------------------------------- ------ 6.7/8.0 MB 3.5 MB/s eta 0:00:01\n",
      "   ---------------------------------- ----- 6.9/8.0 MB 3.5 MB/s eta 0:00:01\n",
      "   ---------------------------------- ----- 7.0/8.0 MB 3.5 MB/s eta 0:00:01\n",
      "   ----------------------------------- ---- 7.2/8.0 MB 3.5 MB/s eta 0:00:01\n",
      "   ------------------------------------ --- 7.3/8.0 MB 3.5 MB/s eta 0:00:01\n",
      "   ------------------------------------ --- 7.4/8.0 MB 3.5 MB/s eta 0:00:01\n",
      "   ------------------------------------- -- 7.5/8.0 MB 3.4 MB/s eta 0:00:01\n",
      "   ------------------------------------- -- 7.5/8.0 MB 3.4 MB/s eta 0:00:01\n",
      "   -------------------------------------- - 7.7/8.0 MB 3.4 MB/s eta 0:00:01\n",
      "   ---------------------------------------  7.9/8.0 MB 3.4 MB/s eta 0:00:01\n",
      "   ---------------------------------------- 8.0/8.0 MB 3.4 MB/s eta 0:00:00\n",
      "Downloading pillow-11.1.0-cp312-cp312-win_amd64.whl (2.6 MB)\n",
      "   ---------------------------------------- 0.0/2.6 MB ? eta -:--:--\n",
      "    --------------------------------------- 0.1/2.6 MB ? eta -:--:--\n",
      "   ----- ---------------------------------- 0.4/2.6 MB 7.6 MB/s eta 0:00:01\n",
      "   -------- ------------------------------- 0.5/2.6 MB 6.7 MB/s eta 0:00:01\n",
      "   ----------- ---------------------------- 0.8/2.6 MB 5.3 MB/s eta 0:00:01\n",
      "   --------------- ------------------------ 1.0/2.6 MB 5.5 MB/s eta 0:00:01\n",
      "   ------------------ --------------------- 1.2/2.6 MB 5.1 MB/s eta 0:00:01\n",
      "   --------------------- ------------------ 1.4/2.6 MB 4.9 MB/s eta 0:00:01\n",
      "   ------------------------ --------------- 1.6/2.6 MB 4.9 MB/s eta 0:00:01\n",
      "   ---------------------------- ----------- 1.8/2.6 MB 4.9 MB/s eta 0:00:01\n",
      "   -------------------------------- ------- 2.1/2.6 MB 5.0 MB/s eta 0:00:01\n",
      "   ---------------------------------- ----- 2.3/2.6 MB 4.8 MB/s eta 0:00:01\n",
      "   ------------------------------------- -- 2.5/2.6 MB 4.7 MB/s eta 0:00:01\n",
      "   ---------------------------------------  2.6/2.6 MB 4.6 MB/s eta 0:00:01\n",
      "   ---------------------------------------- 2.6/2.6 MB 4.5 MB/s eta 0:00:00\n",
      "Downloading contourpy-1.3.1-cp312-cp312-win_amd64.whl (220 kB)\n",
      "   ---------------------------------------- 0.0/221.0 kB ? eta -:--:--\n",
      "   -------------------- ------------------- 112.6/221.0 kB 3.2 MB/s eta 0:00:01\n",
      "   ----------------------------------- ---- 194.6/221.0 kB 2.4 MB/s eta 0:00:01\n",
      "   ---------------------------------------- 221.0/221.0 kB 1.9 MB/s eta 0:00:00\n",
      "Downloading cycler-0.12.1-py3-none-any.whl (8.3 kB)\n",
      "Downloading fonttools-4.55.3-cp312-cp312-win_amd64.whl (2.2 MB)\n",
      "   ---------------------------------------- 0.0/2.2 MB ? eta -:--:--\n",
      "   - -------------------------------------- 0.1/2.2 MB 2.6 MB/s eta 0:00:01\n",
      "   ----- ---------------------------------- 0.3/2.2 MB 3.5 MB/s eta 0:00:01\n",
      "   ------ --------------------------------- 0.4/2.2 MB 2.9 MB/s eta 0:00:01\n",
      "   --------- ------------------------------ 0.5/2.2 MB 3.0 MB/s eta 0:00:01\n",
      "   ----------- ---------------------------- 0.6/2.2 MB 2.9 MB/s eta 0:00:01\n",
      "   -------------- ------------------------- 0.8/2.2 MB 2.9 MB/s eta 0:00:01\n",
      "   ----------------- ---------------------- 0.9/2.2 MB 3.0 MB/s eta 0:00:01\n",
      "   ------------------- -------------------- 1.1/2.2 MB 2.9 MB/s eta 0:00:01\n",
      "   ---------------------- ----------------- 1.2/2.2 MB 3.0 MB/s eta 0:00:01\n",
      "   ----------------------- ---------------- 1.3/2.2 MB 2.8 MB/s eta 0:00:01\n",
      "   ------------------------ --------------- 1.4/2.2 MB 2.7 MB/s eta 0:00:01\n",
      "   -------------------------- ------------- 1.5/2.2 MB 2.8 MB/s eta 0:00:01\n",
      "   ----------------------------- ---------- 1.6/2.2 MB 2.7 MB/s eta 0:00:01\n",
      "   ------------------------------- -------- 1.8/2.2 MB 2.7 MB/s eta 0:00:01\n",
      "   --------------------------------- ------ 1.8/2.2 MB 2.7 MB/s eta 0:00:01\n",
      "   ----------------------------------- ---- 2.0/2.2 MB 2.7 MB/s eta 0:00:01\n",
      "   ------------------------------------ --- 2.0/2.2 MB 2.6 MB/s eta 0:00:01\n",
      "   -------------------------------------- - 2.1/2.2 MB 2.5 MB/s eta 0:00:01\n",
      "   ---------------------------------------  2.2/2.2 MB 2.5 MB/s eta 0:00:01\n",
      "   ---------------------------------------- 2.2/2.2 MB 2.5 MB/s eta 0:00:00\n",
      "Downloading kiwisolver-1.4.8-cp312-cp312-win_amd64.whl (71 kB)\n",
      "   ---------------------------------------- 0.0/71.9 kB ? eta -:--:--\n",
      "   ---------------------------------------- 71.9/71.9 kB 2.0 MB/s eta 0:00:00\n",
      "Downloading pyparsing-3.2.1-py3-none-any.whl (107 kB)\n",
      "   ---------------------------------------- 0.0/107.7 kB ? eta -:--:--\n",
      "   ---------------------- ----------------- 61.4/107.7 kB 1.7 MB/s eta 0:00:01\n",
      "   ---------------------------------------- 107.7/107.7 kB 1.2 MB/s eta 0:00:00\n",
      "Installing collected packages: pyparsing, pillow, kiwisolver, fonttools, cycler, contourpy, matplotlib, wordcloud\n",
      "Successfully installed contourpy-1.3.1 cycler-0.12.1 fonttools-4.55.3 kiwisolver-1.4.8 matplotlib-3.10.0 pillow-11.1.0 pyparsing-3.2.1 wordcloud-1.9.4\n"
     ]
    },
    {
     "name": "stderr",
     "output_type": "stream",
     "text": [
      "\n",
      "[notice] A new release of pip is available: 23.2.1 -> 24.3.1\n",
      "[notice] To update, run: python.exe -m pip install --upgrade pip\n"
     ]
    }
   ],
   "execution_count": 64
  },
  {
   "metadata": {
    "ExecuteTime": {
     "end_time": "2025-01-04T12:49:12.735634Z",
     "start_time": "2025-01-04T12:49:12.724230Z"
    }
   },
   "cell_type": "code",
   "source": "#pip install textacy",
   "id": "16661ecff873ccf0",
   "outputs": [],
   "execution_count": 3
  },
  {
   "metadata": {
    "ExecuteTime": {
     "end_time": "2025-01-04T12:49:13.587153Z",
     "start_time": "2025-01-04T12:49:12.756013Z"
    }
   },
   "cell_type": "code",
   "source": [
    "# load\n",
    "nlp = spacy.load(\"en_core_web_sm\")\n"
   ],
   "id": "b53c6c085a665645",
   "outputs": [],
   "execution_count": 4
  },
  {
   "metadata": {
    "ExecuteTime": {
     "end_time": "2025-01-04T12:49:13.640527Z",
     "start_time": "2025-01-04T12:49:13.636640Z"
    }
   },
   "cell_type": "code",
   "source": "# !pip install spacy",
   "id": "ff08af69d3abde89",
   "outputs": [],
   "execution_count": 5
  },
  {
   "metadata": {
    "ExecuteTime": {
     "end_time": "2025-01-04T12:49:13.657644Z",
     "start_time": "2025-01-04T12:49:13.650603Z"
    }
   },
   "cell_type": "code",
   "source": [
    "# apparently this has to be loaded to allow for textprocessing\n",
    "#!python -m spacy download en_core_web_sm"
   ],
   "id": "83387929173782eb",
   "outputs": [],
   "execution_count": 6
  },
  {
   "metadata": {
    "ExecuteTime": {
     "end_time": "2025-01-04T12:49:13.680219Z",
     "start_time": "2025-01-04T12:49:13.675379Z"
    }
   },
   "cell_type": "code",
   "source": "pdf = 'sample.pdf'",
   "id": "357accc92c3c17a9",
   "outputs": [],
   "execution_count": 7
  },
  {
   "metadata": {},
   "cell_type": "code",
   "outputs": [],
   "execution_count": null,
   "source": [
    "# return text without punctuation, stopwords and spaces in str form\n",
    "def normalize(text):\n",
    "    normalized_text = []\n",
    "    for token in text:\n",
    "        if not token.is_stop and not token.is_punct and not token.is_space:\n",
    "            normalized_text.append(token.lemma_.lower())\n",
    "            normalized_text = ' '.join(normalized_text)\n",
    "\n",
    "            return normalized_text"
   ],
   "id": "504e245b54e59b76"
  },
  {
   "metadata": {},
   "cell_type": "code",
   "outputs": [],
   "execution_count": null,
   "source": [
    "# set up pipeline to preprocess text\n",
    " preproc = preprocessing.make_pipeline(\n",
    "    preprocessing.remove.brackets,\n",
    "    preprocessing.normlize.hyphenated_words,\n",
    "    preprocessing.normalize.unicode,\n",
    "    preprocessing.remove.punctuation,\n",
    "    preprocessing.replace.urls(repl=\" \"),\n",
    "    preprocessing.normalize.whitespace,\n",
    "    preprocessing.remove.punctuation(),\n",
    ")"
   ],
   "id": "9da44ae6a81d9c59"
  },
  {
   "metadata": {
    "ExecuteTime": {
     "end_time": "2025-01-04T16:40:54.002352Z",
     "start_time": "2025-01-04T16:40:53.845480Z"
    }
   },
   "cell_type": "code",
   "source": [
    "# open document, extract text into variable, clean /n\n",
    "with pymupdf.open(pdf) as doc:  # open document\n",
    "    # get all pages into string\n",
    "    text = \" \".join([page.get_text() for page in doc])\n",
    "    text = text.replace('\\n', ' ')\n",
    "    text = text.replace('et al', ' ')\n",
    "    # get Document Metadata\n",
    "    page_count = doc.page_count\n",
    "    metadata = doc.metadata\n",
    "\n",
    "\n",
    "    # cleaning references, by removing everything after last occurence of split words\n",
    "    split_words = [\"References\", \"Appendix\", \"Appendices\", \"Footnotes\", \"Glossary\"]\n",
    "\n",
    "    for word in split_words:\n",
    "        if word in text:\n",
    "            text_list = text.split(word)[:-1]\n",
    "            # test_split = text.split(word)[-1]\n",
    "            text = \" \".join(text_list)\n",
    "\n",
    "\"\"\"\"\"\n",
    "    re_split = text.split(split)\n",
    "    text_wo_ref = re_split[:-1]\n",
    "\"\"\"\"\"\n"
   ],
   "id": "ca34e1f8463fd13a",
   "outputs": [
    {
     "data": {
      "text/plain": [
       "'\"\"\\n    re_split = text.split(split)\\n    text_wo_ref = re_split[:-1]\\n'"
      ]
     },
     "execution_count": 72,
     "metadata": {},
     "output_type": "execute_result"
    }
   ],
   "execution_count": 72
  },
  {
   "metadata": {
    "ExecuteTime": {
     "end_time": "2025-01-04T16:40:55.337385Z",
     "start_time": "2025-01-04T16:40:55.333386Z"
    }
   },
   "cell_type": "code",
   "source": "print(text.count(\"et al\"))",
   "id": "ed21d57da79e43b9",
   "outputs": [
    {
     "name": "stdout",
     "output_type": "stream",
     "text": [
      "0\n"
     ]
    }
   ],
   "execution_count": 73
  },
  {
   "metadata": {},
   "cell_type": "code",
   "source": "print(test_split)",
   "id": "1e1a36540447182a",
   "outputs": [],
   "execution_count": null
  },
  {
   "metadata": {},
   "cell_type": "code",
   "source": "print(page_count, metadata)",
   "id": "ee5f933bd7f7887b",
   "outputs": [],
   "execution_count": null
  },
  {
   "metadata": {
    "ExecuteTime": {
     "end_time": "2025-01-04T15:11:01.449911Z",
     "start_time": "2025-01-04T15:11:01.444080Z"
    }
   },
   "cell_type": "code",
   "source": [
    "pdf_author = metadata[\"author\"]\n",
    "pdf_title = metadata[\"title\"]\n",
    "pdf_keywords = metadata[\"keywords\"]\n",
    "\n",
    "print(pdf_author, pdf_title, pdf_keywords)"
   ],
   "id": "72374b5d9e6566b1",
   "outputs": [
    {
     "name": "stdout",
     "output_type": "stream",
     "text": [
      "Martin Fleischmann, Ombretta Romice, and Sergio Porta Measuring urban form: Overcoming terminological inconsistencies for a quantitative and comprehensive morphologic analysis of cities Terminology,classification,urban morphometrics,urban morphology\n"
     ]
    }
   ],
   "execution_count": 33
  },
  {
   "metadata": {
    "ExecuteTime": {
     "end_time": "2025-01-04T16:41:16.003943Z",
     "start_time": "2025-01-04T16:41:15.161794Z"
    }
   },
   "cell_type": "code",
   "source": [
    "# use spacys natural languague processing to analyze parsed text, get text into doc format for further processing\n",
    "text_nlp = nlp(text)"
   ],
   "id": "b42450cbefad8858",
   "outputs": [],
   "execution_count": 74
  },
  {
   "metadata": {
    "ExecuteTime": {
     "end_time": "2025-01-04T12:49:15.551318Z",
     "start_time": "2025-01-04T12:49:15.535516Z"
    }
   },
   "cell_type": "code",
   "source": [
    "# get statistics on raw text via textacy\n",
    "word_count = text_stats.basics.n_words(text_nlp)\n",
    "sentence_count = text_stats.basics.n_sents(text_nlp)\n",
    "unique_count = text_stats.basics.n_unique_words(text_nlp)\n",
    "\n",
    "# prozentualen anteil der unique words\n",
    "unique_per = round((unique_count / word_count) *100, 2)"
   ],
   "id": "f12a4265f9018786",
   "outputs": [],
   "execution_count": 11
  },
  {
   "metadata": {
    "ExecuteTime": {
     "end_time": "2025-01-04T12:49:15.573392Z",
     "start_time": "2025-01-04T12:49:15.566989Z"
    }
   },
   "cell_type": "code",
   "source": "print(word_count, sentence_count, unique_count)",
   "id": "491bbea103e60532",
   "outputs": [
    {
     "name": "stdout",
     "output_type": "stream",
     "text": [
      "8488 458 2025\n"
     ]
    }
   ],
   "execution_count": 12
  },
  {
   "metadata": {
    "ExecuteTime": {
     "end_time": "2025-01-04T12:49:15.604204Z",
     "start_time": "2025-01-04T12:49:15.591589Z"
    }
   },
   "cell_type": "code",
   "source": [
    "# PDF text to words, remove stopwords\n",
    "text_word = [token.text for token in text_nlp if not token.is_stop]"
   ],
   "id": "10f257a33884271c",
   "outputs": [],
   "execution_count": 13
  },
  {
   "metadata": {
    "ExecuteTime": {
     "end_time": "2025-01-04T12:49:15.626535Z",
     "start_time": "2025-01-04T12:49:15.620499Z"
    }
   },
   "cell_type": "code",
   "source": [
    "text_wo_stop = len(text_word)\n",
    "print(text_wo_stop)"
   ],
   "id": "ccf9a8c14503a966",
   "outputs": [
    {
     "name": "stdout",
     "output_type": "stream",
     "text": [
      "7600\n"
     ]
    }
   ],
   "execution_count": 14
  },
  {
   "metadata": {
    "ExecuteTime": {
     "end_time": "2025-01-04T16:41:22.376315Z",
     "start_time": "2025-01-04T16:41:22.369095Z"
    }
   },
   "cell_type": "code",
   "source": [
    "\n",
    "\n",
    "text_lemma = [token.lemma_ for token in text_nlp if not token.is_stop]"
   ],
   "id": "ba45fe4d99f29999",
   "outputs": [],
   "execution_count": 75
  },
  {
   "metadata": {
    "ExecuteTime": {
     "end_time": "2025-01-04T17:49:37.935218Z",
     "start_time": "2025-01-04T17:49:37.922925Z"
    }
   },
   "cell_type": "code",
   "source": [
    "for entity in text_nlp.ents:\n",
    "    print(entity.text, entity.lemma_,  entity.label_)"
   ],
   "id": "fd17653618f611b5",
   "outputs": [
    {
     "name": "stdout",
     "output_type": "stream",
     "text": [
      "Article Urban Analytics article Urban Analytics ORG\n",
      "Martin Fleischmann Martin Fleischmann PERSON\n",
      "Ombretta Romice Ombretta Romice ORG\n",
      "Sergio Porta University Sergio Porta University ORG\n",
      "UK Abstract UK Abstract ORG\n",
      "the Great Acceleration the Great Acceleration EVENT\n",
      "the late 1950s the late 1950 DATE\n",
      "one one CARDINAL\n",
      "six six CARDINAL\n",
      "three three CARDINAL\n",
      "two two CARDINAL\n",
      "Corresponding Corresponding ORG\n",
      "Martin Fleischmann Martin Fleischmann PERSON\n",
      "University of Strathclyde University of Strathclyde ORG\n",
      "James Weir Building James Weir Building PERSON\n",
      "75 75 CARDINAL\n",
      "Montrose Street Montrose Street FAC\n",
      "Glasgow G1 1XJ Glasgow G1 1XJ PERSON\n",
      "UK UK GPE\n",
      "2020 2020 DATE\n",
      "10.1177/2399808320910444 journals.sagepub.com/home/epb 2021 10.1177/2399808320910444 journals.sagepub.com/home/epb 2021 CARDINAL\n",
      "Vol Vol PERSON\n",
      "48(8 48(8 CARDINAL\n",
      "﻿2133­–2150 ﻿2133­–2150 ORG\n",
      "Keywords Terminology Keywords Terminology PERSON\n",
      "the 21st century the 21st century DATE\n",
      "Cuthbert Cuthbert PERSON\n",
      "2007 2007 DATE\n",
      "Romice Romice GPE\n",
      "2020 2020 DATE\n",
      "Batty Batty ORG\n",
      "2012 2012 DATE\n",
      "two two CARDINAL\n",
      "second second ORDINAL\n",
      "second second ORDINAL\n",
      "one one CARDINAL\n",
      "Dibble Dibble WORK_OF_ART\n",
      "2017 2017 DATE\n",
      "Sneath Sneath PERSON\n",
      "Sokal Sokal PERSON\n",
      "1973 1973 DATE\n",
      "Caniggia Caniggia PERSON\n",
      "Maffei Maffei GPE\n",
      "2001 2001 DATE\n",
      "Conzen Conzen GPE\n",
      "2004 2004 DATE\n",
      "2017 2017 DATE\n",
      "Larkham Larkham PERSON\n",
      "Jones Jones GPE\n",
      "1991 1991 DATE\n",
      "Whitehand Whitehand GPE\n",
      "2012 2012 DATE\n",
      "1 1 CARDINAL\n",
      "2 2 CARDINAL\n",
      "1 1 CARDINAL\n",
      "2 2 CARDINAL\n",
      "3 3 CARDINAL\n",
      "4 4 CARDINAL\n",
      "Fleischmann Fleischmann ORG\n",
      "2135 2135 DATE\n",
      "Araldi Araldi PERSON\n",
      "Fusco Fusco GPE\n",
      "2019 2019 DATE\n",
      "Bobkova Bobkova PERSON\n",
      "2017 2017 DATE\n",
      "2017 2017 DATE\n",
      "Schirmer Schirmer PERSON\n",
      "Axhausen Axhausen PERSON\n",
      "2015 2015 DATE\n",
      "Vanderhaegen and Canters Vanderhaegen and Canters ORG\n",
      "2017 2017 DATE\n",
      "2017 2017 DATE\n",
      "one one CARDINAL\n",
      "Sneath Sneath PERSON\n",
      "Sokal Sokal PERSON\n",
      "1973 1973 DATE\n",
      "Moudon Moudon GPE\n",
      "1997 1997 DATE\n",
      "1 1 CARDINAL\n",
      "1 1 CARDINAL\n",
      "characters1 characters1 ORG\n",
      "2 2 CARDINAL\n",
      "First first ORDINAL\n",
      "two two CARDINAL\n",
      "Google Scholar Google Scholar ORG\n",
      "Scopus Scopus ORG\n",
      "Mendeley Search Mendeley Search PERSON\n",
      "ResearchGate ResearchGate ORG\n",
      "Taylor Taylor PERSON\n",
      "Francis Online Francis Online PERSON\n",
      "1 1 CARDINAL\n",
      "2 2 CARDINAL\n",
      "3 3 CARDINAL\n",
      "4 4 CARDINAL\n",
      "5 5 CARDINAL\n",
      "1 1 CARDINAL\n",
      "10 10 CARDINAL\n",
      "Song Song PERSON\n",
      "Knaap Knaap ORG\n",
      "2007 2007 DATE\n",
      "2017 2017 DATE\n",
      "1 1 CARDINAL\n",
      "1 1 CARDINAL\n",
      "2 2 CARDINAL\n",
      "3 3 CARDINAL\n",
      "2 2 CARDINAL\n",
      "3 3 CARDINAL\n",
      "1 1 CARDINAL\n",
      "C1 C1 ORG\n",
      "C2 C2 CARDINAL\n",
      "2 2 CARDINAL\n",
      "Google Google ORG\n",
      "Researchgate Taylor Researchgate Taylor PERSON\n",
      "Francis Online Francis Online PERSON\n",
      "1 1 CARDINAL\n",
      "2136 2136 DATE\n",
      "48(8 48(8 CARDINAL\n",
      "2015 2015 DATE\n",
      "72 72 CARDINAL\n",
      "PhD phd WORK_OF_ART\n",
      "2 2 CARDINAL\n",
      "three three CARDINAL\n",
      "Comparison Comparison ORG\n",
      "45 45 CARDINAL\n",
      "72 72 CARDINAL\n",
      "62% 62% PERCENT\n",
      "95% 95% PERCENT\n",
      "only one only one CARDINAL\n",
      "2018 2018 DATE\n",
      "Ariza- Villaverde Ariza- Villaverde PERSON\n",
      "2013 2013 DATE\n",
      "Batty Batty GPE\n",
      "Longley Longley GPE\n",
      "1987 1987 DATE\n",
      "Frankhauser Frankhauser PERSON\n",
      "2004 2004 DATE\n",
      "Thomas Thomas PERSON\n",
      "2010 2010 DATE\n",
      "2015 2015 DATE\n",
      "2017 2017 DATE\n",
      "more than 10 more than 10 CARDINAL\n",
      "33% 33% PERCENT\n",
      "more than 25 more than 25 CARDINAL\n",
      "15% 15% PERCENT\n",
      "one one CARDINAL\n",
      "2012 2012 DATE\n",
      "Haggag and Ayad Haggag and Ayad ORG\n",
      "2002 2002 DATE\n",
      "Feliciotti Feliciotti ORG\n",
      "2016 2016 DATE\n",
      "2013 2013 DATE\n",
      "Krizek Krizek GPE\n",
      "2003 2003 DATE\n",
      "Sevtsuk Sevtsuk ORG\n",
      "2016 2016 DATE\n",
      "second second ORDINAL\n",
      "Galster Galster PERSON\n",
      "2001 2001 DATE\n",
      "Song Song PERSON\n",
      "Knaap Knaap ORG\n",
      "2004 2004 DATE\n",
      "2017 2017 DATE\n",
      "Galster Galster PERSON\n",
      "2001 2001 DATE\n",
      "Seto and Seto and ORG\n",
      "Fragkias Fragkias ORG\n",
      "2005 2005 DATE\n",
      "Cellular Automaton Cellular Automaton ORG\n",
      "Batty Batty GPE\n",
      "1997 1997 DATE\n",
      "Kong Kong GPE\n",
      "Cheng Cheng PERSON\n",
      "2011 2011 DATE\n",
      "Hallowell Hallowell ORG\n",
      "Baran Baran GPE\n",
      "2013 2013 DATE\n",
      "Song Song ORG\n",
      "Knaap Knaap ORG\n",
      "2007 2007 DATE\n",
      "Song  . Song  . ORG\n",
      "2013 2013 DATE\n",
      "Schirmer Schirmer PERSON\n",
      "Axhausen Axhausen PERSON\n",
      "2015),4 2015),4 CARDINAL\n",
      "72 72 CARDINAL\n",
      "25 25 CARDINAL\n",
      "15% 15% PERCENT\n",
      "2012 2012 DATE\n",
      "2017 2017 DATE\n",
      "2006 2006 DATE\n",
      "Oliveira Oliveira GPE\n",
      "2013 2013 DATE\n",
      "Schirmer Schirmer PERSON\n",
      "Axhausen Axhausen PERSON\n",
      "2015 2015 DATE\n",
      "Fleischmann Fleischmann ORG\n",
      "2137 2137 DATE\n",
      "Carneiro Carneiro PERSON\n",
      "2010 2010 DATE\n",
      "2017 2017 DATE\n",
      "Feliciotti Feliciotti ORG\n",
      "2017 2017 DATE\n",
      "72 72 CARDINAL\n",
      "465 465 CARDINAL\n",
      "11 26 11 26 CARDINAL\n",
      "80 80 CARDINAL\n",
      "160 240 160 240 CARDINAL\n",
      "2 2 CARDINAL\n",
      "2138 2138 DATE\n",
      "2017 2017 DATE\n",
      "one one CARDINAL\n",
      "Hillier, 1996 Hillier, 1996 DATE\n",
      "Lowry and Lowry Lowry and Lowry ORG\n",
      "2014 2014 DATE\n",
      "2012 2012 DATE\n",
      "Bourdic Bourdic GPE\n",
      "2012 2012 DATE\n",
      "Schirmer Schirmer PERSON\n",
      "Axhausen Axhausen PERSON\n",
      "2015 2015 DATE\n",
      "two two CARDINAL\n",
      "465 465 CARDINAL\n",
      "104 104 CARDINAL\n",
      "22.4% 22.4% PERCENT\n",
      "361 361 CARDINAL\n",
      "Table 1 table 1 LAW\n",
      "Name name GPE\n",
      "Dichotomy Reference Index Element Urban Form Continuity Dichotomy Reference Index Element Urban Form Continuity ORG\n",
      "Gielen Gielen PERSON\n",
      "2017 2017 DATE\n",
      "Weighted Number of Intersections Pedestrian Weighted Number of Intersections Pedestrian ORG\n",
      "2012 2012 DATE\n",
      "Redundancy Street Redundancy Street FAC\n",
      "Feliciotti Feliciotti ORG\n",
      "2018 2018 DATE\n",
      "2018 2018 DATE\n",
      "Footprint Area Building Hallowell Footprint Area Building Hallowell ORG\n",
      "Baran Baran PERSON\n",
      "2013 2013 DATE\n",
      "Block Gil Block Gil PERSON\n",
      "Buildings Hijazi Buildings Hijazi PERSON\n",
      "2016 2016 DATE\n",
      "2016 2016 DATE\n",
      "Fleischmann Fleischmann ORG\n",
      "2139 2139 DATE\n",
      "2002 2002 DATE\n",
      "381 381 CARDINAL\n",
      "three three CARDINAL\n",
      "1 1 CARDINAL\n",
      "2 2 CARDINAL\n",
      "3 3 CARDINAL\n",
      "two two CARDINAL\n",
      "one one CARDINAL\n",
      "Object, Composition, Object, Composition, ORG\n",
      "Neighbourhood Neighbourhood GPE\n",
      "District District GPE\n",
      "Municipality Municipality GPE\n",
      "Schirmer Schirmer GPE\n",
      "Axhausen Axhausen PERSON\n",
      "2015 2015 DATE\n",
      "second second ORDINAL\n",
      "Song, Popkin Song, Popkin ORG\n",
      "Gordon-Larsen’s Gordon-Larsen’s PERSON\n",
      "2013 2013 DATE\n",
      "Bourdic Bourdic PERSON\n",
      "2012 2012 DATE\n",
      "Distribution, Proximity, Connectivity, Complexity, Diversity, Form distribution, Proximity, Connectivity, Complexity, Diversity, Form ORG\n",
      "Name name GPE\n",
      "Bourdic Bourdic PERSON\n",
      "2012 2012 DATE\n",
      "six six CARDINAL\n",
      "1 1 CARDINAL\n",
      "2 2 CARDINAL\n",
      "3 3 CARDINAL\n",
      "4 4 CARDINAL\n",
      "5 5 CARDINAL\n",
      "6 6 CARDINAL\n",
      "six six CARDINAL\n",
      "1 1 CARDINAL\n",
      "6 6 CARDINAL\n",
      "4 4 CARDINAL\n",
      "six six CARDINAL\n",
      "Elongation Elongation ORG\n",
      "Width Width PERSON\n",
      "Length Length PERSON\n",
      "1 1 CARDINAL\n",
      "Elongation Elongation ORG\n",
      "Width/ Width/ ORG\n",
      "three three CARDINAL\n",
      "three three CARDINAL\n",
      "2 2 CARDINAL\n",
      "three three CARDINAL\n",
      "Mehaffy Mehaffy PRODUCT\n",
      "2010 2010 DATE\n",
      "5 5 CARDINAL\n",
      "10 10 CARDINAL\n",
      "1 1 CARDINAL\n",
      "2 2 CARDINAL\n",
      "Element ‘Pedestrian Network Element 'Pedestrian network ORG\n",
      "Space Syntax Space Syntax PERSON\n",
      "Closeness Centrality of Street Network Closeness Centrality of Street Network ORG\n",
      "2140 2140 DATE\n",
      "48(8 48(8 CARDINAL\n",
      "2 2 CARDINAL\n",
      "Character Name Category Definition Index Element Grain Extent Reference Dimension character Name Category Definition Index Element Grain Extent Reference Dimension ORG\n",
      "Length of Street S S Dibble  . Length of Street S S Dibble  . ORG\n",
      "2017 2017 DATE\n",
      "Height Building S S Schirmer Height Building S S Schirmer ORG\n",
      "Axhausen Axhausen PERSON\n",
      "Building S S Schirmer Building S S Schirmer ORG\n",
      "Axhausen Axhausen PERSON\n",
      "Building S S Colaninno Building S S Colaninno ORG\n",
      "2011 2011 DATE\n",
      "Building S S Ye Building S S Ye ORG\n",
      "Van Nes Van Nes PERSON\n",
      "1997 1997 DATE\n",
      "L L Seto and Fragkias L L Seto and Fragkias ORG\n",
      "2005 2005 DATE\n",
      "L L Boeing L L Boeing ORG\n",
      "Height Height GPE\n",
      "Street S S Schirmer Street S S Schirmer ORG\n",
      "Axhausen Axhausen PERSON\n",
      "2015 2015 DATE\n",
      "Plot S S Schirmer Plot s S Schirmer ORG\n",
      "Axhausen Axhausen PERSON\n",
      "2015 2015 DATE\n",
      "Building S S Bourdic, Building S S Bourdic, ORG\n",
      "Nowacki Nowacki PERSON\n",
      "2012 2012 DATE\n",
      "Axial Axial ORG\n",
      "M M Ariza-Villaverde M M Ariza-Villaverde ORG\n",
      "2013 2013 DATE\n",
      "Axhausen Axhausen PERSON\n",
      "2015 2015 DATE\n",
      "L L Seto and Fragkias L L Seto and Fragkias ORG\n",
      "2005 2005 DATE\n",
      "Axhausen Axhausen PERSON\n",
      "Building S S Gil  . Building S S Gil  . ORG\n",
      "2012 2012 DATE\n",
      "Distance Buildings S S Hijazi  . Distance Buildings S S Hijazi  . ORG\n",
      "2016 2016 DATE\n",
      "L L Galster L L Galster PRODUCT\n",
      "2001 2001 DATE\n",
      "L L Gielen L L Gielen FAC\n",
      "2017 2017 DATE\n",
      "Covered Area Ratio of Plot S S Schirmer Covered Area ratio of Plot s S Schirmer ORG\n",
      "Axhausen Axhausen PERSON\n",
      "2015 2015 DATE\n",
      "Floor Area Ratio Block S S Schirmer Floor Area Ratio Block S S Schirmer ORG\n",
      "Axhausen Axhausen PERSON\n",
      "2015 2015 DATE\n",
      "Accessible accessible ORG\n",
      "S M/L Marcus S M/L Marcus ORG\n",
      "Berghauser Pont Berghauser Pont ORG\n",
      "Bobkova Bobkova GPE\n",
      "2017 2017 DATE\n",
      "Fusco Fusco PERSON\n",
      "2019 2019 DATE\n",
      "Fleischmann Fleischmann ORG\n",
      "2141 2141 DATE\n",
      "Table 2 Table 2 EVENT\n",
      "L L Boeing L L Boeing ORG\n",
      "four four CARDINAL\n",
      "Street Street GPE\n",
      "L L Boeing L L Boeing ORG\n",
      "2006 2006 DATE\n",
      "L L Boeing L L Boeing ORG\n",
      "L L Boeing L L Boeing ORG\n",
      "Node Node PERSON\n",
      "L L Boeing L L Boeing ORG\n",
      "Node Node GPE\n",
      "L L Boeing L L Boeing ORG\n",
      "Blocks M M Louf and Barthelemy Blocks M M Louf and Barthelemy ORG\n",
      "2014)24 2014)24 CARDINAL\n",
      "Plot Plot LOC\n",
      "2018 2018 DATE\n",
      "Plot plot NORP\n",
      "Accessible accessible ORG\n",
      "S M/L Bobkova S M/L Bobkova ORG\n",
      "Marcus Marcus GPE\n",
      "Berghauser Pont Berghauser Pont ORG\n",
      "2017 2017 DATE\n",
      "Popkin Popkin PERSON\n",
      "Gordon-Larsen Gordon-Larsen PERSON\n",
      "2013 2013 DATE\n",
      "Table table ORG\n",
      "361 361 CARDINAL\n",
      "Supplementary supplementary FAC\n",
      "2142 2142 DATE\n",
      "48(8 48(8 CARDINAL\n",
      "2 2 CARDINAL\n",
      "Table of Urban Form Characters table of Urban Form Characters ORG\n",
      "3(b 3(b CARDINAL\n",
      "Small small PERSON\n",
      "3(a 3(a CARDINAL\n",
      "six six CARDINAL\n",
      "27 27 CARDINAL\n",
      "13 13 CARDINAL\n",
      "55 55 CARDINAL\n",
      "115 115 CARDINAL\n",
      "3(c 3(c CARDINAL\n",
      "One one CARDINAL\n",
      "3 3 CARDINAL\n",
      "4 4 CARDINAL\n",
      "Fleischmann Fleischmann ORG\n",
      "2143 2143 DATE\n",
      "4 4 CARDINAL\n",
      "Small small PERSON\n",
      "one one CARDINAL\n",
      "six six CARDINAL\n",
      "three three CARDINAL\n",
      "2 2 CARDINAL\n",
      "Seventeen seventeen CARDINAL\n",
      "27 27 CARDINAL\n",
      "15 15 CARDINAL\n",
      "17 17 CARDINAL\n",
      "Cetinkaya Cetinkaya PERSON\n",
      "only 6 only 6 CARDINAL\n",
      "20 20 CARDINAL\n",
      "1972 1972 DATE\n",
      "two two CARDINAL\n",
      "Geographic Information Systems Geographic Information Systems ORG\n",
      "Whitehand Whitehand ORG\n",
      "2012 2012 DATE\n",
      "2144 2144 DATE\n",
      "465 465 CARDINAL\n",
      "Table 2 Table 2 PRODUCT\n",
      "the Table of Urban Form Characters the Table of Urban Form Characters ORG\n",
      "Fleischmann Fleischmann ORG\n",
      "2019 2019 DATE\n",
      "six six CARDINAL\n",
      "Conclusions Quantitative conclusion Quantitative ORG\n",
      "465 465 CARDINAL\n",
      "six six CARDINAL\n",
      "361 361 CARDINAL\n",
      "Fleischmann Fleischmann ORG\n",
      "2145 2145 DATE\n",
      "Axel Axel PERSON\n",
      "Margaret Margaret PERSON\n",
      "Johnson Foundation Johnson Foundation PERSON\n",
      "The Urban Form Resilience Project the Urban Form Resilience Project ORG\n",
      "1 1 CARDINAL\n",
      "2 2 CARDINAL\n",
      "3 3 CARDINAL\n",
      "4. 4. CARDINAL\n",
      "2 2 CARDINAL\n",
      "Schirmer Schirmer PERSON\n",
      "Axhausen Axhausen PERSON\n",
      "2015 2015 DATE\n",
      "5 5 CARDINAL\n",
      "2012 2012 DATE\n",
      "6. 6. CARDINAL\n",
      "two two CARDINAL\n",
      "ORCID ORCID ORG\n",
      "Martin Fleischmann https://orcid.org/0000-0003-3319-3366 Martin Fleischmann https://orcid.org/0000-0003-3319-3366 PERSON\n"
     ]
    }
   ],
   "execution_count": 84
  },
  {
   "metadata": {
    "ExecuteTime": {
     "end_time": "2025-01-04T12:49:15.912120Z",
     "start_time": "2025-01-04T12:49:15.689613Z"
    }
   },
   "cell_type": "code",
   "source": [
    "# get readability score, 0 difficult, 100 difficult\n",
    "\n",
    "read_dif = text_stats.readability.flesch_reading_ease(text_nlp)\n",
    "print(read_dif)"
   ],
   "id": "9f1d7973945ca8df",
   "outputs": [
    {
     "name": "stdout",
     "output_type": "stream",
     "text": [
      "50.47948855615326\n"
     ]
    }
   ],
   "execution_count": 16
  },
  {
   "metadata": {
    "ExecuteTime": {
     "end_time": "2025-01-04T16:41:27.331646Z",
     "start_time": "2025-01-04T16:41:27.192230Z"
    }
   },
   "cell_type": "code",
   "source": "wordcloud = WordCloud().generate(\" \".join(text_lemma))",
   "id": "f619edbf5a41e3a2",
   "outputs": [],
   "execution_count": 76
  },
  {
   "metadata": {
    "ExecuteTime": {
     "end_time": "2025-01-04T16:41:27.754649Z",
     "start_time": "2025-01-04T16:41:27.621449Z"
    }
   },
   "cell_type": "code",
   "source": [
    "plt.imshow(wordcloud)\n",
    "plt.show()"
   ],
   "id": "aea98d610bf407dc",
   "outputs": [
    {
     "data": {
      "text/plain": [
       "<Figure size 640x480 with 1 Axes>"
      ],
      "image/png": "[encoded data removed]"
     },
     "metadata": {},
     "output_type": "display_data"
    }
   ],
   "execution_count": 77
  },
  {
   "metadata": {
    "ExecuteTime": {
     "end_time": "2025-01-04T12:49:15.941227Z",
     "start_time": "2025-01-04T12:49:15.924111Z"
    }
   },
   "cell_type": "code",
   "source": [
    "\n",
    "doc_try = nlp(\"Apple is looking at buying U.K. startup for $1 billion\")\n",
    "\n",
    "for token in doc_try:\n",
    "    print(token.text, token.lemma_, token.pos_, token.tag_, token.dep_,\n",
    "            token.shape_, token.is_alpha, token.is_stop)"
   ],
   "id": "28fe36acc3ee56f7",
   "outputs": [
    {
     "name": "stdout",
     "output_type": "stream",
     "text": [
      "Apple Apple PROPN NNP nsubj Xxxxx True False\n",
      "is be AUX VBZ aux xx True True\n",
      "looking look VERB VBG ROOT xxxx True False\n",
      "at at ADP IN prep xx True True\n",
      "buying buy VERB VBG pcomp xxxx True False\n",
      "U.K. U.K. PROPN NNP nsubj X.X. False False\n",
      "startup startup VERB VBD ccomp xxxx True False\n",
      "for for ADP IN prep xxx True True\n",
      "$ $ SYM $ quantmod $ False False\n",
      "1 1 NUM CD compound d False False\n",
      "billion billion NUM CD pobj xxxx True False\n"
     ]
    }
   ],
   "execution_count": 17
  }
 ],
 "metadata": {
  "kernelspec": {
   "display_name": "Python 3",
   "language": "python",
   "name": "python3"
  },
  "language_info": {
   "codemirror_mode": {
    "name": "ipython",
    "version": 2
   },
   "file_extension": ".py",
   "mimetype": "text/x-python",
   "name": "python",
   "nbconvert_exporter": "python",
   "pygments_lexer": "ipython2",
   "version": "2.7.6"
  }
 },
 "nbformat": 4,
 "nbformat_minor": 5
}
