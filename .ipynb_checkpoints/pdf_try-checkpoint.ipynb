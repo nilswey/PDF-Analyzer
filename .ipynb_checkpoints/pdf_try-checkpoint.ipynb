{
 "cells": [
  {
   "cell_type": "code",
   "execution_count": 20,
   "id": "initial_id",
   "metadata": {
    "ExecuteTime": {
     "end_time": "2025-01-05T16:24:23.646930Z",
     "start_time": "2025-01-05T16:24:23.636869Z"
    },
    "collapsed": true,
    "jupyter": {
     "outputs_hidden": true
    }
   },
   "outputs": [],
   "source": [
    "import fitz\n",
    "import pymupdf\n",
    "import spacy\n",
    "import textacy\n",
    "from spacy.tokenizer import Tokenizer\n",
    "from spacy.lang.en import English\n",
    "from textacy import text_stats\n",
    "from wordcloud import WordCloud\n",
    "import matplotlib.pyplot as plt\n",
    "from textacy import preprocessing\n",
    "from spacy.tokens import Doc\n",
    "import re"
   ]
  },
  {
   "cell_type": "code",
   "execution_count": 3,
   "id": "16661ecff873ccf0",
   "metadata": {
    "ExecuteTime": {
     "end_time": "2025-01-04T12:49:12.735634Z",
     "start_time": "2025-01-04T12:49:12.724230Z"
    }
   },
   "outputs": [],
   "source": [
    "#pip install textacy"
   ]
  },
  {
   "cell_type": "code",
   "execution_count": 5,
   "id": "ff08af69d3abde89",
   "metadata": {
    "ExecuteTime": {
     "end_time": "2025-01-04T12:49:13.640527Z",
     "start_time": "2025-01-04T12:49:13.636640Z"
    }
   },
   "outputs": [],
   "source": [
    "# !pip install spacy"
   ]
  },
  {
   "cell_type": "code",
   "execution_count": null,
   "id": "18c62c344776b088",
   "metadata": {
    "ExecuteTime": {
     "end_time": "2025-01-04T16:35:13.060712Z",
     "start_time": "2025-01-04T16:34:49.309489Z"
    }
   },
   "outputs": [],
   "source": [
    "#!pip install wordcloud"
   ]
  },
  {
   "cell_type": "code",
   "execution_count": 6,
   "id": "83387929173782eb",
   "metadata": {
    "ExecuteTime": {
     "end_time": "2025-01-04T12:49:13.657644Z",
     "start_time": "2025-01-04T12:49:13.650603Z"
    }
   },
   "outputs": [],
   "source": [
    "# apparently this has to be loaded to allow for textprocessing\n",
    "#!python -m spacy download en_core_web_sm"
   ]
  },
  {
   "cell_type": "code",
   "execution_count": 3,
   "id": "b53c6c085a665645",
   "metadata": {
    "ExecuteTime": {
     "end_time": "2025-01-05T16:19:31.907484Z",
     "start_time": "2025-01-05T16:19:31.129142Z"
    }
   },
   "outputs": [],
   "source": [
    "# load\n",
    "nlp = spacy.load(\"en_core_web_sm\")"
   ]
  },
  {
   "cell_type": "code",
   "execution_count": 4,
   "id": "357accc92c3c17a9",
   "metadata": {
    "ExecuteTime": {
     "end_time": "2025-01-05T16:19:32.378210Z",
     "start_time": "2025-01-05T16:19:32.371725Z"
    }
   },
   "outputs": [],
   "source": [
    "pdf = 'sample.pdf'"
   ]
  },
  {
   "cell_type": "code",
   "execution_count": null,
   "id": "504e245b54e59b76",
   "metadata": {},
   "outputs": [],
   "source": [
    "# return lemma without punctuation, stopwords and spaces in str form\n",
    "def normalize_lemma(text):\n",
    "    normalized_text = []\n",
    "    for token in text:\n",
    "        if not token.is_stop and not token.is_punct and not token.is_space:\n",
    "            normalized_text.append(token.lemma_.lower())\n",
    "            normalized_text = ' '.join(normalized_text)\n",
    "\n",
    "            return normalized_text"
   ]
  },
  {
   "cell_type": "code",
   "execution_count": 11,
   "id": "9da44ae6a81d9c59",
   "metadata": {
    "ExecuteTime": {
     "end_time": "2025-01-05T16:21:38.495576Z",
     "start_time": "2025-01-05T16:21:38.486142Z"
    }
   },
   "outputs": [],
   "source": [
    "# set up pipeline to preprocess text\n",
    "\n",
    "preproc = preprocessing.make_pipeline(\n",
    "    preprocessing.remove.brackets,\n",
    "    preprocessing.normalize.hyphenated_words,\n",
    "    preprocessing.normalize.unicode,\n",
    "    preprocessing.remove.punctuation,\n",
    "    preprocessing.replace.urls,\n",
    "    preprocessing.normalize.whitespace,\n",
    "    preprocessing.remove.punctuation\n",
    ")"
   ]
  },
  {
   "cell_type": "code",
   "execution_count": 14,
   "id": "ca34e1f8463fd13a",
   "metadata": {
    "ExecuteTime": {
     "end_time": "2025-01-05T16:22:03.106232Z",
     "start_time": "2025-01-05T16:22:02.853284Z"
    }
   },
   "outputs": [
    {
     "data": {
      "text/plain": [
       "'\"\"\\n    re_split = text.split(split)\\n    text_wo_ref = re_split[:-1]\\n'"
      ]
     },
     "execution_count": 14,
     "metadata": {},
     "output_type": "execute_result"
    }
   ],
   "source": [
    "# open document, extract text into variable, clean /n\n",
    "with pymupdf.open(pdf) as doc:  # open document\n",
    "    # get all pages into string\n",
    "    text = \" \".join([page.get_text() for page in doc])\n",
    "    text = text.replace('\\n', ' ')\n",
    "    text = text.replace('et al', ' ')\n",
    "    # get Document Metadata\n",
    "    page_count = doc.page_count\n",
    "    metadata = doc.metadata\n",
    "\n",
    "\n",
    "    # cleaning references, by removing everything after last occurence of split words\n",
    "    split_words = [\"References\", \"Appendix\", \"Appendices\", \"Footnotes\", \"Glossary\"]\n",
    "\n",
    "    for word in split_words:\n",
    "        if word in text:\n",
    "            text_list = text.split(word)[:-1]\n",
    "            # test_split = text.split(word)[-1]\n",
    "            text = \" \".join(text_list)\n",
    "\n",
    "\"\"\"\"\"\n",
    "    re_split = text.split(split)\n",
    "    text_wo_ref = re_split[:-1]\n",
    "\"\"\"\"\"\n"
   ]
  },
  {
   "cell_type": "code",
   "execution_count": 15,
   "id": "b42450cbefad8858",
   "metadata": {
    "ExecuteTime": {
     "end_time": "2025-01-05T16:22:08.923118Z",
     "start_time": "2025-01-05T16:22:07.962928Z"
    }
   },
   "outputs": [],
   "source": [
    "# use spacys natural languague processing to analyze parsed text, get text into doc format for further processing\n",
    "text_nlp = nlp(text)"
   ]
  },
  {
   "cell_type": "code",
   "execution_count": 23,
   "id": "3a2ee1d83fed0e09",
   "metadata": {
    "ExecuteTime": {
     "end_time": "2025-01-05T16:24:59.570519Z",
     "start_time": "2025-01-05T16:24:59.298679Z"
    }
   },
   "outputs": [],
   "source": [
    "prep_try = preproc(text)"
   ]
  },
  {
   "cell_type": "code",
   "execution_count": 33,
   "id": "72374b5d9e6566b1",
   "metadata": {
    "ExecuteTime": {
     "end_time": "2025-01-04T15:11:01.449911Z",
     "start_time": "2025-01-04T15:11:01.444080Z"
    }
   },
   "outputs": [
    {
     "name": "stdout",
     "output_type": "stream",
     "text": [
      "Martin Fleischmann, Ombretta Romice, and Sergio Porta Measuring urban form: Overcoming terminological inconsistencies for a quantitative and comprehensive morphologic analysis of cities Terminology,classification,urban morphometrics,urban morphology\n"
     ]
    }
   ],
   "source": [
    "pdf_author = metadata[\"author\"]\n",
    "pdf_title = metadata[\"title\"]\n",
    "pdf_keywords = metadata[\"keywords\"]\n",
    "\n",
    "print(pdf_author, pdf_title, pdf_keywords)"
   ]
  },
  {
   "cell_type": "code",
   "execution_count": 11,
   "id": "f12a4265f9018786",
   "metadata": {
    "ExecuteTime": {
     "end_time": "2025-01-04T12:49:15.551318Z",
     "start_time": "2025-01-04T12:49:15.535516Z"
    }
   },
   "outputs": [],
   "source": [
    "# get statistics on raw text via textacy\n",
    "word_count = text_stats.basics.n_words(text_nlp)\n",
    "sentence_count = text_stats.basics.n_sents(text_nlp)\n",
    "unique_count = text_stats.basics.n_unique_words(text_nlp)\n",
    "\n",
    "# prozentualen anteil der unique words\n",
    "unique_per = round((unique_count / word_count) *100, 2)"
   ]
  },
  {
   "cell_type": "code",
   "execution_count": 12,
   "id": "491bbea103e60532",
   "metadata": {
    "ExecuteTime": {
     "end_time": "2025-01-04T12:49:15.573392Z",
     "start_time": "2025-01-04T12:49:15.566989Z"
    }
   },
   "outputs": [
    {
     "name": "stdout",
     "output_type": "stream",
     "text": [
      "8488 458 2025\n"
     ]
    }
   ],
   "source": [
    "print(word_count, sentence_count, unique_count)"
   ]
  },
  {
   "cell_type": "code",
   "execution_count": 13,
   "id": "10f257a33884271c",
   "metadata": {
    "ExecuteTime": {
     "end_time": "2025-01-04T12:49:15.604204Z",
     "start_time": "2025-01-04T12:49:15.591589Z"
    }
   },
   "outputs": [],
   "source": [
    "# PDF text to words, remove stopwords\n",
    "text_word = [token.text for token in text_nlp if not token.is_stop]"
   ]
  },
  {
   "cell_type": "code",
   "execution_count": 14,
   "id": "ccf9a8c14503a966",
   "metadata": {
    "ExecuteTime": {
     "end_time": "2025-01-04T12:49:15.626535Z",
     "start_time": "2025-01-04T12:49:15.620499Z"
    }
   },
   "outputs": [
    {
     "name": "stdout",
     "output_type": "stream",
     "text": [
      "7600\n"
     ]
    }
   ],
   "source": [
    "text_wo_stop = len(text_word)\n",
    "print(text_wo_stop)"
   ]
  },
  {
   "cell_type": "code",
   "execution_count": 75,
   "id": "ba45fe4d99f29999",
   "metadata": {
    "ExecuteTime": {
     "end_time": "2025-01-04T16:41:22.376315Z",
     "start_time": "2025-01-04T16:41:22.369095Z"
    }
   },
   "outputs": [],
   "source": [
    "# Normalize Lemmatization\n",
    "#text_lemma = [token.lemma_ for token in text_nlp if not token.is_stop]\n",
    "text_lemma = normalize_lemma(text_nlp)"
   ]
  },
  {
   "cell_type": "code",
   "execution_count": 84,
   "id": "fd17653618f611b5",
   "metadata": {
    "ExecuteTime": {
     "end_time": "2025-01-04T17:49:37.935218Z",
     "start_time": "2025-01-04T17:49:37.922925Z"
    }
   },
   "outputs": [
    {
     "name": "stdout",
     "output_type": "stream",
     "text": [
      "Article Urban Analytics article Urban Analytics ORG\n",
      "Martin Fleischmann Martin Fleischmann PERSON\n",
      "Ombretta Romice Ombretta Romice ORG\n",
      "Sergio Porta University Sergio Porta University ORG\n",
      "UK Abstract UK Abstract ORG\n",
      "the Great Acceleration the Great Acceleration EVENT\n",
      "the late 1950s the late 1950 DATE\n",
      "one one CARDINAL\n",
      "six six CARDINAL\n",
      "three three CARDINAL\n",
      "two two CARDINAL\n",
      "Corresponding Corresponding ORG\n",
      "Martin Fleischmann Martin Fleischmann PERSON\n",
      "University of Strathclyde University of Strathclyde ORG\n",
      "James Weir Building James Weir Building PERSON\n",
      "75 75 CARDINAL\n",
      "Montrose Street Montrose Street FAC\n",
      "Glasgow G1 1XJ Glasgow G1 1XJ PERSON\n",
      "UK UK GPE\n",
      "2020 2020 DATE\n",
      "10.1177/2399808320910444 journals.sagepub.com/home/epb 2021 10.1177/2399808320910444 journals.sagepub.com/home/epb 2021 CARDINAL\n",
      "Vol Vol PERSON\n",
      "48(8 48(8 CARDINAL\n",
      "﻿2133­–2150 ﻿2133­–2150 ORG\n",
      "Keywords Terminology Keywords Terminology PERSON\n",
      "the 21st century the 21st century DATE\n",
      "Cuthbert Cuthbert PERSON\n",
      "2007 2007 DATE\n",
      "Romice Romice GPE\n",
      "2020 2020 DATE\n",
      "Batty Batty ORG\n",
      "2012 2012 DATE\n",
      "two two CARDINAL\n",
      "second second ORDINAL\n",
      "second second ORDINAL\n",
      "one one CARDINAL\n",
      "Dibble Dibble WORK_OF_ART\n",
      "2017 2017 DATE\n",
      "Sneath Sneath PERSON\n",
      "Sokal Sokal PERSON\n",
      "1973 1973 DATE\n",
      "Caniggia Caniggia PERSON\n",
      "Maffei Maffei GPE\n",
      "2001 2001 DATE\n",
      "Conzen Conzen GPE\n",
      "2004 2004 DATE\n",
      "2017 2017 DATE\n",
      "Larkham Larkham PERSON\n",
      "Jones Jones GPE\n",
      "1991 1991 DATE\n",
      "Whitehand Whitehand GPE\n",
      "2012 2012 DATE\n",
      "1 1 CARDINAL\n",
      "2 2 CARDINAL\n",
      "1 1 CARDINAL\n",
      "2 2 CARDINAL\n",
      "3 3 CARDINAL\n",
      "4 4 CARDINAL\n",
      "Fleischmann Fleischmann ORG\n",
      "2135 2135 DATE\n",
      "Araldi Araldi PERSON\n",
      "Fusco Fusco GPE\n",
      "2019 2019 DATE\n",
      "Bobkova Bobkova PERSON\n",
      "2017 2017 DATE\n",
      "2017 2017 DATE\n",
      "Schirmer Schirmer PERSON\n",
      "Axhausen Axhausen PERSON\n",
      "2015 2015 DATE\n",
      "Vanderhaegen and Canters Vanderhaegen and Canters ORG\n",
      "2017 2017 DATE\n",
      "2017 2017 DATE\n",
      "one one CARDINAL\n",
      "Sneath Sneath PERSON\n",
      "Sokal Sokal PERSON\n",
      "1973 1973 DATE\n",
      "Moudon Moudon GPE\n",
      "1997 1997 DATE\n",
      "1 1 CARDINAL\n",
      "1 1 CARDINAL\n",
      "characters1 characters1 ORG\n",
      "2 2 CARDINAL\n",
      "First first ORDINAL\n",
      "two two CARDINAL\n",
      "Google Scholar Google Scholar ORG\n",
      "Scopus Scopus ORG\n",
      "Mendeley Search Mendeley Search PERSON\n",
      "ResearchGate ResearchGate ORG\n",
      "Taylor Taylor PERSON\n",
      "Francis Online Francis Online PERSON\n",
      "1 1 CARDINAL\n",
      "2 2 CARDINAL\n",
      "3 3 CARDINAL\n",
      "4 4 CARDINAL\n",
      "5 5 CARDINAL\n",
      "1 1 CARDINAL\n",
      "10 10 CARDINAL\n",
      "Song Song PERSON\n",
      "Knaap Knaap ORG\n",
      "2007 2007 DATE\n",
      "2017 2017 DATE\n",
      "1 1 CARDINAL\n",
      "1 1 CARDINAL\n",
      "2 2 CARDINAL\n",
      "3 3 CARDINAL\n",
      "2 2 CARDINAL\n",
      "3 3 CARDINAL\n",
      "1 1 CARDINAL\n",
      "C1 C1 ORG\n",
      "C2 C2 CARDINAL\n",
      "2 2 CARDINAL\n",
      "Google Google ORG\n",
      "Researchgate Taylor Researchgate Taylor PERSON\n",
      "Francis Online Francis Online PERSON\n",
      "1 1 CARDINAL\n",
      "2136 2136 DATE\n",
      "48(8 48(8 CARDINAL\n",
      "2015 2015 DATE\n",
      "72 72 CARDINAL\n",
      "PhD phd WORK_OF_ART\n",
      "2 2 CARDINAL\n",
      "three three CARDINAL\n",
      "Comparison Comparison ORG\n",
      "45 45 CARDINAL\n",
      "72 72 CARDINAL\n",
      "62% 62% PERCENT\n",
      "95% 95% PERCENT\n",
      "only one only one CARDINAL\n",
      "2018 2018 DATE\n",
      "Ariza- Villaverde Ariza- Villaverde PERSON\n",
      "2013 2013 DATE\n",
      "Batty Batty GPE\n",
      "Longley Longley GPE\n",
      "1987 1987 DATE\n",
      "Frankhauser Frankhauser PERSON\n",
      "2004 2004 DATE\n",
      "Thomas Thomas PERSON\n",
      "2010 2010 DATE\n",
      "2015 2015 DATE\n",
      "2017 2017 DATE\n",
      "more than 10 more than 10 CARDINAL\n",
      "33% 33% PERCENT\n",
      "more than 25 more than 25 CARDINAL\n",
      "15% 15% PERCENT\n",
      "one one CARDINAL\n",
      "2012 2012 DATE\n",
      "Haggag and Ayad Haggag and Ayad ORG\n",
      "2002 2002 DATE\n",
      "Feliciotti Feliciotti ORG\n",
      "2016 2016 DATE\n",
      "2013 2013 DATE\n",
      "Krizek Krizek GPE\n",
      "2003 2003 DATE\n",
      "Sevtsuk Sevtsuk ORG\n",
      "2016 2016 DATE\n",
      "second second ORDINAL\n",
      "Galster Galster PERSON\n",
      "2001 2001 DATE\n",
      "Song Song PERSON\n",
      "Knaap Knaap ORG\n",
      "2004 2004 DATE\n",
      "2017 2017 DATE\n",
      "Galster Galster PERSON\n",
      "2001 2001 DATE\n",
      "Seto and Seto and ORG\n",
      "Fragkias Fragkias ORG\n",
      "2005 2005 DATE\n",
      "Cellular Automaton Cellular Automaton ORG\n",
      "Batty Batty GPE\n",
      "1997 1997 DATE\n",
      "Kong Kong GPE\n",
      "Cheng Cheng PERSON\n",
      "2011 2011 DATE\n",
      "Hallowell Hallowell ORG\n",
      "Baran Baran GPE\n",
      "2013 2013 DATE\n",
      "Song Song ORG\n",
      "Knaap Knaap ORG\n",
      "2007 2007 DATE\n",
      "Song  . Song  . ORG\n",
      "2013 2013 DATE\n",
      "Schirmer Schirmer PERSON\n",
      "Axhausen Axhausen PERSON\n",
      "2015),4 2015),4 CARDINAL\n",
      "72 72 CARDINAL\n",
      "25 25 CARDINAL\n",
      "15% 15% PERCENT\n",
      "2012 2012 DATE\n",
      "2017 2017 DATE\n",
      "2006 2006 DATE\n",
      "Oliveira Oliveira GPE\n",
      "2013 2013 DATE\n",
      "Schirmer Schirmer PERSON\n",
      "Axhausen Axhausen PERSON\n",
      "2015 2015 DATE\n",
      "Fleischmann Fleischmann ORG\n",
      "2137 2137 DATE\n",
      "Carneiro Carneiro PERSON\n",
      "2010 2010 DATE\n",
      "2017 2017 DATE\n",
      "Feliciotti Feliciotti ORG\n",
      "2017 2017 DATE\n",
      "72 72 CARDINAL\n",
      "465 465 CARDINAL\n",
      "11 26 11 26 CARDINAL\n",
      "80 80 CARDINAL\n",
      "160 240 160 240 CARDINAL\n",
      "2 2 CARDINAL\n",
      "2138 2138 DATE\n",
      "2017 2017 DATE\n",
      "one one CARDINAL\n",
      "Hillier, 1996 Hillier, 1996 DATE\n",
      "Lowry and Lowry Lowry and Lowry ORG\n",
      "2014 2014 DATE\n",
      "2012 2012 DATE\n",
      "Bourdic Bourdic GPE\n",
      "2012 2012 DATE\n",
      "Schirmer Schirmer PERSON\n",
      "Axhausen Axhausen PERSON\n",
      "2015 2015 DATE\n",
      "two two CARDINAL\n",
      "465 465 CARDINAL\n",
      "104 104 CARDINAL\n",
      "22.4% 22.4% PERCENT\n",
      "361 361 CARDINAL\n",
      "Table 1 table 1 LAW\n",
      "Name name GPE\n",
      "Dichotomy Reference Index Element Urban Form Continuity Dichotomy Reference Index Element Urban Form Continuity ORG\n",
      "Gielen Gielen PERSON\n",
      "2017 2017 DATE\n",
      "Weighted Number of Intersections Pedestrian Weighted Number of Intersections Pedestrian ORG\n",
      "2012 2012 DATE\n",
      "Redundancy Street Redundancy Street FAC\n",
      "Feliciotti Feliciotti ORG\n",
      "2018 2018 DATE\n",
      "2018 2018 DATE\n",
      "Footprint Area Building Hallowell Footprint Area Building Hallowell ORG\n",
      "Baran Baran PERSON\n",
      "2013 2013 DATE\n",
      "Block Gil Block Gil PERSON\n",
      "Buildings Hijazi Buildings Hijazi PERSON\n",
      "2016 2016 DATE\n",
      "2016 2016 DATE\n",
      "Fleischmann Fleischmann ORG\n",
      "2139 2139 DATE\n",
      "2002 2002 DATE\n",
      "381 381 CARDINAL\n",
      "three three CARDINAL\n",
      "1 1 CARDINAL\n",
      "2 2 CARDINAL\n",
      "3 3 CARDINAL\n",
      "two two CARDINAL\n",
      "one one CARDINAL\n",
      "Object, Composition, Object, Composition, ORG\n",
      "Neighbourhood Neighbourhood GPE\n",
      "District District GPE\n",
      "Municipality Municipality GPE\n",
      "Schirmer Schirmer GPE\n",
      "Axhausen Axhausen PERSON\n",
      "2015 2015 DATE\n",
      "second second ORDINAL\n",
      "Song, Popkin Song, Popkin ORG\n",
      "Gordon-Larsen’s Gordon-Larsen’s PERSON\n",
      "2013 2013 DATE\n",
      "Bourdic Bourdic PERSON\n",
      "2012 2012 DATE\n",
      "Distribution, Proximity, Connectivity, Complexity, Diversity, Form distribution, Proximity, Connectivity, Complexity, Diversity, Form ORG\n",
      "Name name GPE\n",
      "Bourdic Bourdic PERSON\n",
      "2012 2012 DATE\n",
      "six six CARDINAL\n",
      "1 1 CARDINAL\n",
      "2 2 CARDINAL\n",
      "3 3 CARDINAL\n",
      "4 4 CARDINAL\n",
      "5 5 CARDINAL\n",
      "6 6 CARDINAL\n",
      "six six CARDINAL\n",
      "1 1 CARDINAL\n",
      "6 6 CARDINAL\n",
      "4 4 CARDINAL\n",
      "six six CARDINAL\n",
      "Elongation Elongation ORG\n",
      "Width Width PERSON\n",
      "Length Length PERSON\n",
      "1 1 CARDINAL\n",
      "Elongation Elongation ORG\n",
      "Width/ Width/ ORG\n",
      "three three CARDINAL\n",
      "three three CARDINAL\n",
      "2 2 CARDINAL\n",
      "three three CARDINAL\n",
      "Mehaffy Mehaffy PRODUCT\n",
      "2010 2010 DATE\n",
      "5 5 CARDINAL\n",
      "10 10 CARDINAL\n",
      "1 1 CARDINAL\n",
      "2 2 CARDINAL\n",
      "Element ‘Pedestrian Network Element 'Pedestrian network ORG\n",
      "Space Syntax Space Syntax PERSON\n",
      "Closeness Centrality of Street Network Closeness Centrality of Street Network ORG\n",
      "2140 2140 DATE\n",
      "48(8 48(8 CARDINAL\n",
      "2 2 CARDINAL\n",
      "Character Name Category Definition Index Element Grain Extent Reference Dimension character Name Category Definition Index Element Grain Extent Reference Dimension ORG\n",
      "Length of Street S S Dibble  . Length of Street S S Dibble  . ORG\n",
      "2017 2017 DATE\n",
      "Height Building S S Schirmer Height Building S S Schirmer ORG\n",
      "Axhausen Axhausen PERSON\n",
      "Building S S Schirmer Building S S Schirmer ORG\n",
      "Axhausen Axhausen PERSON\n",
      "Building S S Colaninno Building S S Colaninno ORG\n",
      "2011 2011 DATE\n",
      "Building S S Ye Building S S Ye ORG\n",
      "Van Nes Van Nes PERSON\n",
      "1997 1997 DATE\n",
      "L L Seto and Fragkias L L Seto and Fragkias ORG\n",
      "2005 2005 DATE\n",
      "L L Boeing L L Boeing ORG\n",
      "Height Height GPE\n",
      "Street S S Schirmer Street S S Schirmer ORG\n",
      "Axhausen Axhausen PERSON\n",
      "2015 2015 DATE\n",
      "Plot S S Schirmer Plot s S Schirmer ORG\n",
      "Axhausen Axhausen PERSON\n",
      "2015 2015 DATE\n",
      "Building S S Bourdic, Building S S Bourdic, ORG\n",
      "Nowacki Nowacki PERSON\n",
      "2012 2012 DATE\n",
      "Axial Axial ORG\n",
      "M M Ariza-Villaverde M M Ariza-Villaverde ORG\n",
      "2013 2013 DATE\n",
      "Axhausen Axhausen PERSON\n",
      "2015 2015 DATE\n",
      "L L Seto and Fragkias L L Seto and Fragkias ORG\n",
      "2005 2005 DATE\n",
      "Axhausen Axhausen PERSON\n",
      "Building S S Gil  . Building S S Gil  . ORG\n",
      "2012 2012 DATE\n",
      "Distance Buildings S S Hijazi  . Distance Buildings S S Hijazi  . ORG\n",
      "2016 2016 DATE\n",
      "L L Galster L L Galster PRODUCT\n",
      "2001 2001 DATE\n",
      "L L Gielen L L Gielen FAC\n",
      "2017 2017 DATE\n",
      "Covered Area Ratio of Plot S S Schirmer Covered Area ratio of Plot s S Schirmer ORG\n",
      "Axhausen Axhausen PERSON\n",
      "2015 2015 DATE\n",
      "Floor Area Ratio Block S S Schirmer Floor Area Ratio Block S S Schirmer ORG\n",
      "Axhausen Axhausen PERSON\n",
      "2015 2015 DATE\n",
      "Accessible accessible ORG\n",
      "S M/L Marcus S M/L Marcus ORG\n",
      "Berghauser Pont Berghauser Pont ORG\n",
      "Bobkova Bobkova GPE\n",
      "2017 2017 DATE\n",
      "Fusco Fusco PERSON\n",
      "2019 2019 DATE\n",
      "Fleischmann Fleischmann ORG\n",
      "2141 2141 DATE\n",
      "Table 2 Table 2 EVENT\n",
      "L L Boeing L L Boeing ORG\n",
      "four four CARDINAL\n",
      "Street Street GPE\n",
      "L L Boeing L L Boeing ORG\n",
      "2006 2006 DATE\n",
      "L L Boeing L L Boeing ORG\n",
      "L L Boeing L L Boeing ORG\n",
      "Node Node PERSON\n",
      "L L Boeing L L Boeing ORG\n",
      "Node Node GPE\n",
      "L L Boeing L L Boeing ORG\n",
      "Blocks M M Louf and Barthelemy Blocks M M Louf and Barthelemy ORG\n",
      "2014)24 2014)24 CARDINAL\n",
      "Plot Plot LOC\n",
      "2018 2018 DATE\n",
      "Plot plot NORP\n",
      "Accessible accessible ORG\n",
      "S M/L Bobkova S M/L Bobkova ORG\n",
      "Marcus Marcus GPE\n",
      "Berghauser Pont Berghauser Pont ORG\n",
      "2017 2017 DATE\n",
      "Popkin Popkin PERSON\n",
      "Gordon-Larsen Gordon-Larsen PERSON\n",
      "2013 2013 DATE\n",
      "Table table ORG\n",
      "361 361 CARDINAL\n",
      "Supplementary supplementary FAC\n",
      "2142 2142 DATE\n",
      "48(8 48(8 CARDINAL\n",
      "2 2 CARDINAL\n",
      "Table of Urban Form Characters table of Urban Form Characters ORG\n",
      "3(b 3(b CARDINAL\n",
      "Small small PERSON\n",
      "3(a 3(a CARDINAL\n",
      "six six CARDINAL\n",
      "27 27 CARDINAL\n",
      "13 13 CARDINAL\n",
      "55 55 CARDINAL\n",
      "115 115 CARDINAL\n",
      "3(c 3(c CARDINAL\n",
      "One one CARDINAL\n",
      "3 3 CARDINAL\n",
      "4 4 CARDINAL\n",
      "Fleischmann Fleischmann ORG\n",
      "2143 2143 DATE\n",
      "4 4 CARDINAL\n",
      "Small small PERSON\n",
      "one one CARDINAL\n",
      "six six CARDINAL\n",
      "three three CARDINAL\n",
      "2 2 CARDINAL\n",
      "Seventeen seventeen CARDINAL\n",
      "27 27 CARDINAL\n",
      "15 15 CARDINAL\n",
      "17 17 CARDINAL\n",
      "Cetinkaya Cetinkaya PERSON\n",
      "only 6 only 6 CARDINAL\n",
      "20 20 CARDINAL\n",
      "1972 1972 DATE\n",
      "two two CARDINAL\n",
      "Geographic Information Systems Geographic Information Systems ORG\n",
      "Whitehand Whitehand ORG\n",
      "2012 2012 DATE\n",
      "2144 2144 DATE\n",
      "465 465 CARDINAL\n",
      "Table 2 Table 2 PRODUCT\n",
      "the Table of Urban Form Characters the Table of Urban Form Characters ORG\n",
      "Fleischmann Fleischmann ORG\n",
      "2019 2019 DATE\n",
      "six six CARDINAL\n",
      "Conclusions Quantitative conclusion Quantitative ORG\n",
      "465 465 CARDINAL\n",
      "six six CARDINAL\n",
      "361 361 CARDINAL\n",
      "Fleischmann Fleischmann ORG\n",
      "2145 2145 DATE\n",
      "Axel Axel PERSON\n",
      "Margaret Margaret PERSON\n",
      "Johnson Foundation Johnson Foundation PERSON\n",
      "The Urban Form Resilience Project the Urban Form Resilience Project ORG\n",
      "1 1 CARDINAL\n",
      "2 2 CARDINAL\n",
      "3 3 CARDINAL\n",
      "4. 4. CARDINAL\n",
      "2 2 CARDINAL\n",
      "Schirmer Schirmer PERSON\n",
      "Axhausen Axhausen PERSON\n",
      "2015 2015 DATE\n",
      "5 5 CARDINAL\n",
      "2012 2012 DATE\n",
      "6. 6. CARDINAL\n",
      "two two CARDINAL\n",
      "ORCID ORCID ORG\n",
      "Martin Fleischmann https://orcid.org/0000-0003-3319-3366 Martin Fleischmann https://orcid.org/0000-0003-3319-3366 PERSON\n"
     ]
    }
   ],
   "source": [
    "\"\"\"\n",
    "# Example for entity recognition\n",
    "for entity in text_nlp.ents:\n",
    "    print(entity.text, entity.lemma_,  entity.label_)\n",
    "\n",
    "\"\"\""
   ]
  },
  {
   "cell_type": "code",
   "execution_count": 16,
   "id": "9f1d7973945ca8df",
   "metadata": {
    "ExecuteTime": {
     "end_time": "2025-01-04T12:49:15.912120Z",
     "start_time": "2025-01-04T12:49:15.689613Z"
    }
   },
   "outputs": [
    {
     "name": "stdout",
     "output_type": "stream",
     "text": [
      "50.47948855615326\n"
     ]
    }
   ],
   "source": [
    "# get readability score, 0 difficult, 100 difficult\n",
    "\n",
    "read_dif = text_stats.readability.flesch_reading_ease(text_nlp)\n",
    "print(read_dif)"
   ]
  },
  {
   "cell_type": "code",
   "execution_count": 76,
   "id": "f619edbf5a41e3a2",
   "metadata": {
    "ExecuteTime": {
     "end_time": "2025-01-04T16:41:27.331646Z",
     "start_time": "2025-01-04T16:41:27.192230Z"
    }
   },
   "outputs": [],
   "source": [
    "# generate Wordcloud\n",
    "\n",
    "wordcloud = WordCloud().generate(\" \".join(text_lemma))\n",
    "plt.imshow(wordcloud)\n",
    "plt.show()"
   ]
  },
  {
   "cell_type": "code",
   "execution_count": 17,
   "id": "28fe36acc3ee56f7",
   "metadata": {
    "ExecuteTime": {
     "end_time": "2025-01-04T12:49:15.941227Z",
     "start_time": "2025-01-04T12:49:15.924111Z"
    }
   },
   "outputs": [
    {
     "name": "stdout",
     "output_type": "stream",
     "text": [
      "Apple Apple PROPN NNP nsubj Xxxxx True False\n",
      "is be AUX VBZ aux xx True True\n",
      "looking look VERB VBG ROOT xxxx True False\n",
      "at at ADP IN prep xx True True\n",
      "buying buy VERB VBG pcomp xxxx True False\n",
      "U.K. U.K. PROPN NNP nsubj X.X. False False\n",
      "startup startup VERB VBD ccomp xxxx True False\n",
      "for for ADP IN prep xxx True True\n",
      "$ $ SYM $ quantmod $ False False\n",
      "1 1 NUM CD compound d False False\n",
      "billion billion NUM CD pobj xxxx True False\n"
     ]
    }
   ],
   "source": [
    "\n",
    "doc_try = nlp(\"Apple is looking at buying U.K. startup for $1 billion\")\n",
    "\n",
    "for token in doc_try:\n",
    "    print(token.text, token.lemma_, token.pos_, token.tag_, token.dep_,\n",
    "            token.shape_, token.is_alpha, token.is_stop)"
   ]
  }
 ],
 "metadata": {
  "kernelspec": {
   "display_name": "Python 3 (ipykernel)",
   "language": "python",
   "name": "python3"
  },
  "language_info": {
   "codemirror_mode": {
    "name": "ipython",
    "version": 3
   },
   "file_extension": ".py",
   "mimetype": "text/x-python",
   "name": "python",
   "nbconvert_exporter": "python",
   "pygments_lexer": "ipython3",
   "version": "3.12.6"
  }
 },
 "nbformat": 4,
 "nbformat_minor": 5
}
